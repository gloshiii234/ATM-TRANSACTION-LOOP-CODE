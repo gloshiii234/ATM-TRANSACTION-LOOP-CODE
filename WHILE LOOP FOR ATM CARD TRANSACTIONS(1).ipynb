{
 "cells": [
  {
   "cell_type": "code",
   "execution_count": 1,
   "id": "045f13e0",
   "metadata": {},
   "outputs": [
    {
     "name": "stdout",
     "output_type": "stream",
     "text": [
      "Enter 'b' for balance, 'w' to withdraw, 'd' for deposit, 'q' to quit: b\n",
      "Your balance is: 100000\n",
      "Enter 'b' for balance, 'w' to withdraw, 'd' for deposit, 'q' to quit: w\n",
      "Amount to withdraw: 100000\n",
      "Your account has no money\n",
      "Enter 'b' for balance, 'w' to withdraw, 'd' for deposit, 'q' to quit: d\n",
      "Amount to deposit: 3000\n",
      "Amount not depositable!\n",
      "Enter 'b' for balance, 'w' to withdraw, 'd' for deposit, 'q' to quit: d\n",
      "Amount to deposit: 40000\n",
      "Your new balance is: 140000\n",
      "Enter 'b' for balance, 'w' to withdraw, 'd' for deposit, 'q' to quit: q\n",
      "Goodbye!\n"
     ]
    }
   ],
   "source": [
    "accountbal = 100000\n",
    "\n",
    "while True:\n",
    "    choice = input(\"Enter 'b' for balance, 'w' to withdraw, 'd' for deposit, 'q' to quit: \")\n",
    "\n",
    "    if choice.lower() == 'q':\n",
    "        print(\"Goodbye!\")\n",
    "        break\n",
    "\n",
    "    elif choice.lower() == 'd':\n",
    "        deposit = float(input(\"Amount to deposit: \"))\n",
    "        if deposit >= 10000:\n",
    "            accountbal = accountbal + deposit\n",
    "            print(\"Your new balance is: %d\" % accountbal)\n",
    "        else:\n",
    "            print(\"Amount not depositable!\")\n",
    "    \n",
    "    elif choice.lower() == 'w':\n",
    "        withdraw = float(input('Amount to withdraw: '))\n",
    "        if withdraw < accountbal:\n",
    "            print(\"Your withdraw is: %2.f\" % withdraw)\n",
    "            accountbal = accountbal - withdraw\n",
    "            print(\"Your new balance is: %d\" % accountbal)\n",
    "        else:\n",
    "            print(\"Your account has no money\")\n",
    "\n",
    "    elif choice.lower() == 'b':\n",
    "        print(\"Your balance is: %d\" % accountbal)\n",
    "\n",
    "    else:\n",
    "        print(\"Invalid choice!\")\n"
   ]
  },
  {
   "cell_type": "code",
   "execution_count": null,
   "id": "2b7ef6e9",
   "metadata": {},
   "outputs": [],
   "source": []
  }
 ],
 "metadata": {
  "kernelspec": {
   "display_name": "Python 3 (ipykernel)",
   "language": "python",
   "name": "python3"
  },
  "language_info": {
   "codemirror_mode": {
    "name": "ipython",
    "version": 3
   },
   "file_extension": ".py",
   "mimetype": "text/x-python",
   "name": "python",
   "nbconvert_exporter": "python",
   "pygments_lexer": "ipython3",
   "version": "3.9.13"
  }
 },
 "nbformat": 4,
 "nbformat_minor": 5
}
