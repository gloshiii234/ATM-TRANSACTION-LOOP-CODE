{
 "cells": [
  {
   "cell_type": "code",
   "execution_count": null,
   "id": "c209d6f8",
   "metadata": {},
   "outputs": [
    {
     "name": "stdout",
     "output_type": "stream",
     "text": [
      "Enter 'b' for balance, 'w' to withdraw, 'd' for deposit, 'q' to quit: b\n",
      "Your balance is:100000\n",
      "Anymore help?\n",
      "Enter 'b' for balance, 'w' to withdraw, 'd' for deposit, 'q' to quit: w\n",
      "Amount to withdraw: 100000\n",
      "Your account has no money\n",
      "Anymore help?\n",
      "Enter 'b' for balance, 'w' to withdraw, 'd' for deposit, 'q' to quit: d\n",
      "Amount to deposit: 5000\n",
      "Amount not depositable!\n",
      "Anything else?\n",
      "Enter 'b' for balance, 'w' to withdraw, 'd' for deposit, 'q' to quit: d\n",
      "Amount to deposit: 20000\n",
      "Your new balance is:120000\n",
      "Anything else?\n",
      "Enter 'b' for balance, 'w' to withdraw, 'd' for deposit, 'q' to quit: w\n",
      "Amount to withdraw: 30000\n",
      "Your withdraw is:30000\n",
      "your new balance is:90000\n",
      "Anymore help?\n"
     ]
    }
   ],
   "source": [
    "accountbal = 100000\n",
    "\n",
    "choice = input(\"Enter 'b' for balance, 'w' to withdraw, 'd' for deposit, 'q' to quit: \")\n",
    "\n",
    "while choice != 'q':\n",
    "\n",
    "    if choice.lower() == 'd':\n",
    "\n",
    "        deposit = float(input(\"Amount to deposit: \"))\n",
    "\n",
    "        if deposit >= 10000:\n",
    "\n",
    "            accountbal = accountbal + deposit\n",
    "\n",
    "            print(\"Your new balance is:%d\" % accountbal)\n",
    "\n",
    "        else:\n",
    "\n",
    "            print(\"Amount not depositable!\")\n",
    "\n",
    "        print(\"Anything else?\")\n",
    "\n",
    "        choice = input(\"Enter 'b' for balance, 'w' to withdraw, 'd' for deposit, 'q' to quit: \")\n",
    "\n",
    "    if choice.lower() == 'w':\n",
    "\n",
    "        withdraw = float(input('Amount to withdraw: '))\n",
    "\n",
    "        if withdraw < accountbal:\n",
    "\n",
    "            print(\"Your withdraw is:%2.f\" % withdraw)\n",
    "\n",
    "            accountbal = accountbal - withdraw\n",
    "\n",
    "            print(\"your new balance is:%d\" % accountbal)\n",
    "\n",
    "        else:\n",
    "\n",
    "            print(\"Your account has no money\")\n",
    "\n",
    "        print(\"Anymore help?\")\n",
    "\n",
    "        choice = input(\"Enter 'b' for balance, 'w' to withdraw, 'd' for deposit, 'q' to quit: \")\n",
    "\n",
    "\n",
    "    if choice.lower() == 'b':\n",
    "\n",
    "        print(\"Your balance is:%d\" % accountbal)\n",
    "\n",
    "        print(\"Anymore help?\")\n",
    "\n",
    "        choice = input(\"Enter 'b' for balance, 'w' to withdraw, 'd' for deposit, 'q' to quit: \")\n",
    "\n",
    "else:\n",
    "\n",
    "    print(\"Wrong choice!\")\n",
    "\n",
    "    print(\"Anymore help?\")\n",
    "\n",
    "    choice = input(\"Enter 'b' for balance, 'w' to withdraw, 'd' for deposit, 'q' to quit: \")\n"
   ]
  },
  {
   "cell_type": "code",
   "execution_count": null,
   "id": "abbba437",
   "metadata": {},
   "outputs": [],
   "source": []
  }
 ],
 "metadata": {
  "kernelspec": {
   "display_name": "Python 3 (ipykernel)",
   "language": "python",
   "name": "python3"
  },
  "language_info": {
   "codemirror_mode": {
    "name": "ipython",
    "version": 3
   },
   "file_extension": ".py",
   "mimetype": "text/x-python",
   "name": "python",
   "nbconvert_exporter": "python",
   "pygments_lexer": "ipython3",
   "version": "3.9.13"
  }
 },
 "nbformat": 4,
 "nbformat_minor": 5
}
